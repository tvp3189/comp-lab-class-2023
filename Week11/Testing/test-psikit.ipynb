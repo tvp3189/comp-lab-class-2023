{
 "cells": [
  {
   "cell_type": "code",
   "execution_count": 1,
   "metadata": {},
   "outputs": [
    {
     "name": "stdout",
     "output_type": "stream",
     "text": [
      "\n",
      "  Memory set to  11.176 GiB by Python driver.\n",
      "  Threads set to 1 by Python driver.\n",
      "SCF Energy:  -230.71227965267587\n",
      "HOMO:  -0.32848520376992946\n",
      "LUMO:  0.14565220772826254\n",
      "SCF Total Dipole Moment: 0.0\n"
     ]
    }
   ],
   "source": [
    "from psikit import Psikit\n",
    "pk=Psikit(debug=True,threads=1,memory=12)\n",
    "pk.read_from_smiles(\"c1ccccc1\")\n",
    "print(\"SCF Energy: \", pk.energy())\n",
    "print(\"HOMO: \", pk.HOMO)\n",
    "print(\"LUMO: \", pk.LUMO)\n",
    "x, y, z, total = pk.dipolemoment\n",
    "print(\"SCF Total Dipole Moment: {}\".format(total))\n",
    "# SCF Energy:  -230.712279648862\n",
    "# HOMO:  -0.32848562009092513\n",
    "# LUMO:  0.1456515222506689\n",
    "# SCF Total Dipole Moment: 3.292464934070545e-05"
   ]
  },
  {
   "cell_type": "code",
   "execution_count": 2,
   "metadata": {},
   "outputs": [
    {
     "name": "stdout",
     "output_type": "stream",
     "text": [
      "Optimizer: Optimization complete!\n",
      "Optimized SCF Energy:  -230.71352354163952\n"
     ]
    }
   ],
   "source": [
    "pk=Psikit(debug=True,threads=1,memory=12)\n",
    "pk.read_from_smiles(\"c1ccccc1\")\n",
    "print(\"Optimized SCF Energy: \", pk.optimize())\n",
    "# Optimizer: Optimization complete!\n",
    "# Optimized SCF Energy:  -230.71352354223438"
   ]
  },
  {
   "cell_type": "code",
   "execution_count": 3,
   "metadata": {},
   "outputs": [
    {
     "name": "stdout",
     "output_type": "stream",
     "text": [
      "Optimizer: Optimization complete!\n",
      "C ESP:-0.28288260003115817\tRESP:-0.26657462937414306\n",
      "C ESP:0.80609513593864912\tRESP:0.80609513593864912\n",
      "O ESP:-0.60321681619563994\tRESP:-0.60321681619563994\n",
      "O ESP:-0.66462636173534551\tRESP:-0.66462636173534539\n",
      "H ESP:0.096663686710498853\tRESP:0.091227696491493773\n",
      "H ESP:0.096663686710498853\tRESP:0.091227696491493773\n",
      "H ESP:0.096663686710498853\tRESP:0.091227696491493773\n",
      "H ESP:0.45463958189199799\tRESP:0.45463958189199793\n",
      "Optimizer: Optimization complete!\n"
     ]
    },
    {
     "data": {
      "text/plain": [
       "array([-0.29413439,  0.33178749, -0.34961792, -0.29234543,  0.12067824,\n",
       "        0.12156136,  0.12482943,  0.23724122])"
      ]
     },
     "execution_count": 3,
     "metadata": {},
     "output_type": "execute_result"
    }
   ],
   "source": [
    "# REF http://ambermd.org/tutorials/advanced/tutorial1/files/resp_paper_jacs.pdf\n",
    "pk=Psikit(debug=True,threads=1,memory=12)\n",
    "pk.read_from_smiles(\"CC(=O)O\")\n",
    "pk.optimize()\n",
    "# Optimizer: Optimization complete!\n",
    "# -227.82180859253418\n",
    "pk.calc_resp_charges()\n",
    "# array([-0.32506898,  0.83672649, -0.61924915, -0.66135715,  0.10450057,\n",
    "#    0.10478188,  0.10780051,  0.45186584])\n",
    "\n",
    "for atom in pk.mol.GetAtoms(): \n",
    "    print(atom.GetSymbol(), \"ESP:{}\\tRESP:{}\".format(atom.GetProp(\"EP\"), atom.GetProp(\"RESP\"))) \n",
    "\n",
    "# C ESP:-0.49662019588648315\tRESP:-0.3250689814483399\n",
    "# C ESP:0.91473263536048643\t\tRESP:0.83672648554100837\n",
    "# O ESP:-0.63823808477114718\tRESP:-0.61924915363703359\n",
    "# O ESP:-0.6763331997116846\t\tRESP:-0.66135714989354499\n",
    "# H ESP:0.14625849864628995\t\tRESP:0.10450056830656008\n",
    "# H ESP:0.14578513969681847\t\tRESP:0.10478187811883517\n",
    "# H ESP:0.1530843954112609\t\tRESP:0.1078005104750676\n",
    "# H ESP:0.45133081125445906\t\tRESP:0.45186584253744722\n",
    "\n",
    "### Compute Mulliken charges and Lowdin charges\n",
    "\n",
    "pk = Psikit()\n",
    "pk.read_from_smiles(\"CC(=O)O\")\n",
    "pk.optimize() # or pk.energy()\n",
    "\n",
    "pk.calc_mulliken_charges()\n",
    "# array([-0.42203029,  0.72794785, -0.55419051, -0.59333358,  0.16369722,\n",
    "#    0.1636994 ,  0.15462075,  0.35958916])\n",
    "\n",
    "pk.calc_lowdin_charges()\n",
    "#array([-0.30006577,  0.33900448, -0.35983788, -0.28463832,  0.12439944,\n",
    "#    0.12810672,  0.11935266,  0.23367866])"
   ]
  }
 ],
 "metadata": {
  "kernelspec": {
   "display_name": "lab_env_2023",
   "language": "python",
   "name": "lab_env_2023"
  },
  "language_info": {
   "codemirror_mode": {
    "name": "ipython",
    "version": 3
   },
   "file_extension": ".py",
   "mimetype": "text/x-python",
   "name": "python",
   "nbconvert_exporter": "python",
   "pygments_lexer": "ipython3",
   "version": "3.9.12"
  }
 },
 "nbformat": 4,
 "nbformat_minor": 4
}
