{
 "cells": [
  {
   "cell_type": "code",
   "execution_count": 1,
   "metadata": {},
   "outputs": [],
   "source": [
    "import mdtraj as md\n",
    "import numpy as np\n",
    "from matplotlib import pyplot as plt"
   ]
  },
  {
   "cell_type": "code",
   "execution_count": 2,
   "metadata": {},
   "outputs": [],
   "source": [
    "def open_xvg(filename):\n",
    "    data = []\n",
    "    raw_data = open(filename, 'r')\n",
    "    for line in raw_data:\n",
    "        if line[0] != '#' and line[0] != '@':\n",
    "            datapt = cast_float(line.strip().split())\n",
    "            data.append(datapt)\n",
    "    return data\n",
    "                        \n",
    "def cast_float(raw_datapt):\n",
    "    datapt = []\n",
    "    for item in raw_datapt:\n",
    "        datapt.append(float(item))\n",
    "    return datapt\n",
    "\n",
    "def plot_xvg(filename):\n",
    "    datapts = open_xvg(filename)\n",
    "    time, measure = [], []\n",
    "    for pt in datapts:\n",
    "        time.append(pt[0])\n",
    "        measure.append(pt[1])\n",
    "    return time, measure"
   ]
  },
  {
   "cell_type": "code",
   "execution_count": 2,
   "metadata": {},
   "outputs": [],
   "source": [
    "# from Week 2\n",
    "def end_end(traj):\n",
    "    # get the first and last atom\n",
    "    first = traj.xyz[:,0,:]\n",
    "    last = traj.xyz[:,-1,:]\n",
    "    # compute the distance between the first and last atom\n",
    "    dist = np.sqrt(np.sum((first-last)**2, axis=1))\n",
    "    return dist"
   ]
  },
  {
   "cell_type": "code",
   "execution_count": 6,
   "metadata": {},
   "outputs": [],
   "source": [
    "traj = md.load_xtc('../Setup/2JOF_AMBER/gromacs/step5_centered2.xtc', top='../Setup/2JOF_AMBER/gromacs/step5_centered2.gro')"
   ]
  },
  {
   "cell_type": "code",
   "execution_count": 8,
   "metadata": {},
   "outputs": [
    {
     "name": "stdout",
     "output_type": "stream",
     "text": [
      "[1.1170918  1.0483572  1.0452642  1.0225184  0.9101594  1.0421096\n",
      " 1.1915616  1.0236124  1.1710056  1.1177325  3.0642078  1.0700816\n",
      " 1.1483146  1.259432   1.3859797  3.3847327  3.5844223  3.7456405\n",
      " 1.1315185  1.179363   3.7409675  3.8910687  3.629045   3.418151\n",
      " 3.4114242  3.396691   3.379641   0.8919984  3.9640946  1.056196\n",
      " 1.0779636  1.2438694  1.4770306  3.8266346  3.9561725  3.4612546\n",
      " 3.2750416  1.0050436  1.0929022  1.2061454  1.1830523  3.194458\n",
      " 1.4138584  1.3822049  1.1815966  1.3034898  1.1328787  1.330109\n",
      " 1.3706893  2.8123474  2.8705683  1.2167687  1.3430239  1.521994\n",
      " 1.306671   1.2047261  1.2889506  1.2385969  1.0454613  3.3669343\n",
      " 3.2519917  3.4357023  1.1084589  1.4391725  1.2999765  1.2224803\n",
      " 1.0533882  1.042801   0.95166534 1.0983515  0.97576386 1.0799472\n",
      " 4.087298   0.88925177 0.9362496  4.0951743  1.0796413  1.1373342\n",
      " 1.1065975  1.1134138  1.111956   1.4421657  1.0514563  1.2004045\n",
      " 3.6417518  3.1448364  3.1493926  3.758214   3.8631384  1.3540806\n",
      " 1.4873282  1.3310691  1.5390846  1.2527654  1.2478663  1.4408981\n",
      " 1.4910873  1.3981222  1.2904114  0.9898273  1.2231407 ]\n"
     ]
    }
   ],
   "source": [
    "dist = end_end(traj)\n",
    "print(dist)\n",
    "rg = md.compute_rg(traj)\n",
    "\n"
   ]
  }
 ],
 "metadata": {
  "kernelspec": {
   "display_name": "lab_env_2023",
   "language": "python",
   "name": "lab_env_2023"
  },
  "language_info": {
   "codemirror_mode": {
    "name": "ipython",
    "version": 3
   },
   "file_extension": ".py",
   "mimetype": "text/x-python",
   "name": "python",
   "nbconvert_exporter": "python",
   "pygments_lexer": "ipython3",
   "version": "3.9.12"
  }
 },
 "nbformat": 4,
 "nbformat_minor": 2
}
