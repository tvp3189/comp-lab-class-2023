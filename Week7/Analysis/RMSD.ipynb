{
 "cells": [
  {
   "cell_type": "code",
   "execution_count": 1,
   "metadata": {},
   "outputs": [],
   "source": [
    "import mdtraj as md\n",
    "import numpy as np\n",
    "from matplotlib import pyplot as plt"
   ]
  },
  {
   "cell_type": "code",
   "execution_count": 2,
   "metadata": {},
   "outputs": [],
   "source": [
    "crystal = md.load(\"../Inputs/3RY2.pdb\")\n",
    "alphafold = md.load(\"../Data/3RY2/relaxed_model_1_pred_0.pdb\")\n",
    "colabfold = md.load(\"../Data/3RY2_colabfold/3RY2_76ce1_unrelaxed_rank_001_alphafold2_ptm_model_3_seed_000.pdb\")"
   ]
  },
  {
   "cell_type": "code",
   "execution_count": 48,
   "metadata": {},
   "outputs": [
    {
     "name": "stdout",
     "output_type": "stream",
     "text": [
      "122\n",
      "122\n",
      "122\n"
     ]
    }
   ],
   "source": [
    "print(len(alphafold.topology.select(\"protein and backbone and name CA and chainid 0 and resid > 1 and resid < 124\")))\n",
    "print(len(colabfold.topology.select(\"protein and backbone and name CA and chainid 0 and resid > 1 and resid < 124\")))\n",
    "\n",
    "print(len(crystal.topology.select(\"protein and backbone and name CA and chainid 1\")))"
   ]
  },
  {
   "cell_type": "code",
   "execution_count": null,
   "metadata": {},
   "outputs": [],
   "source": []
  },
  {
   "cell_type": "code",
   "execution_count": 10,
   "metadata": {},
   "outputs": [
    {
     "ename": "ValueError",
     "evalue": "Input arrays must have same number of atoms. found 2143 and 1822.",
     "output_type": "error",
     "traceback": [
      "\u001b[0;31m---------------------------------------------------------------------------\u001b[0m",
      "\u001b[0;31mValueError\u001b[0m                                Traceback (most recent call last)",
      "Cell \u001b[0;32mIn [10], line 1\u001b[0m\n\u001b[0;32m----> 1\u001b[0m alphafold \u001b[38;5;241m=\u001b[39m \u001b[43malphafold\u001b[49m\u001b[38;5;241;43m.\u001b[39;49m\u001b[43msuperpose\u001b[49m\u001b[43m(\u001b[49m\u001b[43mcrystal\u001b[49m\u001b[43m)\u001b[49m\n\u001b[1;32m      2\u001b[0m colabfold \u001b[38;5;241m=\u001b[39m colabfold\u001b[38;5;241m.\u001b[39msuperpose(crystal)\n\u001b[1;32m      5\u001b[0m alphafold_rmsd \u001b[38;5;241m=\u001b[39m md\u001b[38;5;241m.\u001b[39mrmsd(alphafold[\u001b[38;5;241m0\u001b[39m][:\u001b[38;5;241m1813\u001b[39m], crystal[\u001b[38;5;241m0\u001b[39m][:\u001b[38;5;241m1813\u001b[39m])\n",
      "File \u001b[0;32m/ext3/miniconda3/lib/python3.9/site-packages/mdtraj/core/trajectory.py:1044\u001b[0m, in \u001b[0;36mTrajectory.superpose\u001b[0;34m(self, reference, frame, atom_indices, ref_atom_indices, parallel)\u001b[0m\n\u001b[1;32m   1041\u001b[0m self_g \u001b[38;5;241m=\u001b[39m np\u001b[38;5;241m.\u001b[39meinsum(\u001b[38;5;124m'\u001b[39m\u001b[38;5;124mijk,ijk->i\u001b[39m\u001b[38;5;124m'\u001b[39m, self_align_xyz, self_align_xyz)\n\u001b[1;32m   1042\u001b[0m ref_g \u001b[38;5;241m=\u001b[39m np\u001b[38;5;241m.\u001b[39meinsum(\u001b[38;5;124m'\u001b[39m\u001b[38;5;124mijk,ijk->i\u001b[39m\u001b[38;5;124m'\u001b[39m, ref_align_xyz , ref_align_xyz)\n\u001b[0;32m-> 1044\u001b[0m \u001b[43m_rmsd\u001b[49m\u001b[38;5;241;43m.\u001b[39;49m\u001b[43msuperpose_atom_major\u001b[49m\u001b[43m(\u001b[49m\n\u001b[1;32m   1045\u001b[0m \u001b[43m    \u001b[49m\u001b[43mref_align_xyz\u001b[49m\u001b[43m,\u001b[49m\u001b[43m \u001b[49m\u001b[43mself_align_xyz\u001b[49m\u001b[43m,\u001b[49m\u001b[43m \u001b[49m\u001b[43mref_g\u001b[49m\u001b[43m,\u001b[49m\u001b[43m \u001b[49m\u001b[43mself_g\u001b[49m\u001b[43m,\u001b[49m\u001b[43m \u001b[49m\u001b[43mself_displace_xyz\u001b[49m\u001b[43m,\u001b[49m\n\u001b[1;32m   1046\u001b[0m \u001b[43m    \u001b[49m\u001b[38;5;241;43m0\u001b[39;49m\u001b[43m,\u001b[49m\u001b[43m \u001b[49m\u001b[43mparallel\u001b[49m\u001b[38;5;241;43m=\u001b[39;49m\u001b[43mparallel\u001b[49m\u001b[43m)\u001b[49m\n\u001b[1;32m   1048\u001b[0m self_displace_xyz \u001b[38;5;241m+\u001b[39m\u001b[38;5;241m=\u001b[39m ref_offset\n\u001b[1;32m   1049\u001b[0m \u001b[38;5;28mself\u001b[39m\u001b[38;5;241m.\u001b[39mxyz \u001b[38;5;241m=\u001b[39m self_displace_xyz\n",
      "File \u001b[0;32mmdtraj/rmsd/_rmsd.pyx:567\u001b[0m, in \u001b[0;36mmdtraj._rmsd.superpose_atom_major\u001b[0;34m()\u001b[0m\n",
      "\u001b[0;31mValueError\u001b[0m: Input arrays must have same number of atoms. found 2143 and 1822."
     ]
    }
   ],
   "source": [
    "alphafold = alphafold.superpose(crystal)\n",
    "colabfold = colabfold.superpose(crystal)\n",
    "\n",
    "\n",
    "alphafold_rmsd = md.rmsd(alphafold[0][:1813], crystal[0][:1813])\n",
    "#colabfold_rmsd = md.rmsd(colabfold, crystal)\n"
   ]
  }
 ],
 "metadata": {
  "kernelspec": {
   "display_name": "lab_env_2023",
   "language": "python",
   "name": "lab_env_2023"
  },
  "language_info": {
   "codemirror_mode": {
    "name": "ipython",
    "version": 3
   },
   "file_extension": ".py",
   "mimetype": "text/x-python",
   "name": "python",
   "nbconvert_exporter": "python",
   "pygments_lexer": "ipython3",
   "version": "3.9.12"
  }
 },
 "nbformat": 4,
 "nbformat_minor": 4
}
