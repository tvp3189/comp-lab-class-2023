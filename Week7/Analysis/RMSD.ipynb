{
 "cells": [
  {
   "cell_type": "code",
   "execution_count": 2,
   "metadata": {},
   "outputs": [],
   "source": [
    "import mdtraj as md\n",
    "import numpy as np\n",
    "from matplotlib import pyplot as plt"
   ]
  },
  {
   "cell_type": "code",
   "execution_count": 3,
   "metadata": {},
   "outputs": [],
   "source": [
    "crystal = md.load(\"../Inputs/3RY2.pdb\")\n",
    "alphafold = md.load(\"../Data/3RY2/relaxed_model_1_pred_0.pdb\")\n",
    "colabfold = md.load(\"../Data/3RY2_colabfold/3RY2_76ce1_unrelaxed_rank_001_alphafold2_ptm_model_3_seed_000.pdb\")"
   ]
  },
  {
   "cell_type": "code",
   "execution_count": 48,
   "metadata": {},
   "outputs": [
    {
     "name": "stdout",
     "output_type": "stream",
     "text": [
      "122\n",
      "122\n",
      "122\n"
     ]
    }
   ],
   "source": [
    "print(len(alphafold.topology.select(\"protein and backbone and name CA and chainid 0 and resid > 1 and resid < 124\")))\n",
    "print(len(colabfold.topology.select(\"protein and backbone and name CA and chainid 0 and resid > 1 and resid < 124\")))\n",
    "\n",
    "print(len(crystal.topology.select(\"protein and backbone and name CA and chainid 1\")))"
   ]
  },
  {
   "cell_type": "code",
   "execution_count": 24,
   "metadata": {},
   "outputs": [
    {
     "name": "stdout",
     "output_type": "stream",
     "text": [
      "[  32   33   34 ... 1786 1788 1789]\n",
      "[  4   5   6   7   8  13  22  23  24  25  30  31  32  41  42  43  48  49\n",
      "  50  51  52  53  54  55  56  57  62  63  64  65  66  67  68  69  74  75\n",
      "  76  77  82  83  84  85  86  91  92  93  94 103 104 109 110 111 116 117\n",
      " 118 119 120 121 122 127 128 129 130 135 136 137 142 143 144 149 158 163\n",
      " 164 165 166 175 180 181 182 183 188 189 190 199 200 201 206 207 208 209\n",
      " 210 211 212 213 218 219 220 221 222 227 228 233 238 239 240 249 250 251\n",
      " 252 257 262 263 264 265 266 271 272 277 278 279 280 281 282 283 288 289\n",
      " 290 291 292 293 294 295 300 301 302 307 308 309 310 315 316 317 326 327\n",
      " 328 329 330 331 332 337 338 339 340 341 342 343 344 349 350 351 352 357\n",
      " 358 363 368 369 370 375 380 381 382 387 388 389 390 399 400 409 410 411\n",
      " 416 421 422 423 424 433 434 435 436 437 438 439 440 441 442 447 448 449\n",
      " 454 455 456 461 466 467 468 469 470 471 472 473 474 475 480 481 482 483\n",
      " 484 489 490 491 492 497 498 499 500 505 506 507 508 509 510 511 512 517\n",
      " 518 519 520 521 522 523 528 529 530 531 536 541 542 543 544 545 546 551\n",
      " 552 557 562 563 564 569 570 571 576 577 578 579 580 581 582 583 584 585\n",
      " 590 591 600 601 602 603 604 609 610 611 612 613 614 615 616 621 622 623\n",
      " 636 641 642 643 644 645 650 655 656 657 658 659 660 661 666 667 668 669\n",
      " 674 675 676 677 682 683 684 689 690 691 692 693 698 699 700 701 702 703\n",
      " 704 705 706 707 712 713 714 715 720 721 722 723 728 729 730 735 736 745\n",
      " 746 747 752 753 754 759 760 761 762 763 768 773 774 775 776 781 786 787\n",
      " 788 789 790 791 792 793 794 795 800 801 802 803 804 809 810 815 816 817\n",
      " 822 823 824 825 830 831 832 841 842 843 844 845 846 851 852 853 854 859\n",
      " 860 861 866 867 868 869 870 871 872 877 878 879 884 885 886 887 888 893\n",
      " 894 895 900 901 902 903 904]\n"
     ]
    }
   ],
   "source": [
    "print(alphafold.topology.select(\"protein and sidechain and chainid 0 and resid > 1 and resid < 124\"))\n",
    "print(crystal.topology.select(\"protein and sidechain and chainid 0\"))"
   ]
  },
  {
   "cell_type": "code",
   "execution_count": null,
   "metadata": {},
   "outputs": [],
   "source": []
  },
  {
   "cell_type": "code",
   "execution_count": 36,
   "metadata": {},
   "outputs": [],
   "source": [
    "def find_rmsd(selection):\n",
    "    alphafold_indices = alphafold.topology.select(f\"protein {selection} and chainid 0 and resid > 1 and resid < 124\")\n",
    "    colabfold_indices = colabfold.topology.select(f\"protein {selection} and chainid 0 and resid > 1 and resid < 124\")\n",
    "    crystal_indices = crystal.topology.select(f\"protein {selection} and chainid 1\")\n",
    "\n",
    "    alphafold_rmsd = md.rmsd(alphafold, crystal, atom_indices=alphafold_indices, ref_atom_indices=crystal_indices)\n",
    "    colabfold_rmsd = md.rmsd(colabfold, crystal, atom_indices=colabfold_indices, ref_atom_indices=crystal_indices)\n",
    "    \n",
    "    return(alphafold_rmsd, colabfold_rmsd)"
   ]
  },
  {
   "cell_type": "code",
   "execution_count": 44,
   "metadata": {},
   "outputs": [
    {
     "name": "stdout",
     "output_type": "stream",
     "text": [
      "[0.07150486] [0.07479119]\n",
      "[0.07089002] [0.07496157]\n"
     ]
    },
    {
     "data": {
      "image/png": "[encoded data removed]",
      "text/plain": [
       "<Figure size 640x480 with 1 Axes>"
      ]
     },
     "metadata": {},
     "output_type": "display_data"
    }
   ],
   "source": [
    "(CA_alphafold, CA_colabfold) = find_rmsd(\"and backbone and name CA\")\n",
    "(backbone_alphafold, backbone_colabfold) = find_rmsd(\"and backbone\")\n",
    "print(CA_alphafold, CA_colabfold)\n",
    "print(backbone_alphafold, backbone_colabfold)\n",
    "#(sidechain_alphafold, sidechain_colabfold) = find_rmsd(\"and not water and not name H\")\n",
    "#print(sidechain_alphafold, sidechain_colabfold)\n",
    "\n",
    "plt.bar([\"Alphafold CA\", \"Colabfold CA\", \"Alphafold Backbone\", \"Colabfold Backbone\"], \n",
    "        [CA_alphafold[0], CA_colabfold[0], backbone_alphafold[0], backbone_colabfold[0]])\n",
    "plt.title(\"RMSD Comparison\")\n",
    "plt.savefig(\"../Figures/RMSD.png\")\n",
    "plt.show()"
   ]
  }
 ],
 "metadata": {
  "kernelspec": {
   "display_name": "lab_env_2023",
   "language": "python",
   "name": "lab_env_2023"
  },
  "language_info": {
   "codemirror_mode": {
    "name": "ipython",
    "version": 3
   },
   "file_extension": ".py",
   "mimetype": "text/x-python",
   "name": "python",
   "nbconvert_exporter": "python",
   "pygments_lexer": "ipython3",
   "version": "3.9.12"
  }
 },
 "nbformat": 4,
 "nbformat_minor": 4
}
