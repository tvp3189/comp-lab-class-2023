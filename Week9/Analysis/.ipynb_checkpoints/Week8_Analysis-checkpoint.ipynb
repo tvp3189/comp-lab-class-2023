{
 "cells": [
  {
   "cell_type": "code",
   "execution_count": 2,
   "metadata": {},
   "outputs": [],
   "source": [
    "import numpy as np\n",
    "import MDAnalysis as mda\n",
    "from matplotlib import pyplot as plt"
   ]
  },
  {
   "cell_type": "code",
   "execution_count": 12,
   "metadata": {},
   "outputs": [],
   "source": [
    "# key: temperature, value: nsteps\n",
    "temperatures = {1.5:10000, 1:50000, 0.9:150000, 0.8:150000,\n",
    "               0.7:180000, 0.65:350000, 0.6:1000000,\n",
    "               0.55:3000000, 0.5:10000000, 0.475:30000000}\n",
    "\n",
    "for temp in temperatures:\n",
    "    u = mda.Universe(f'../Data/equil/kalj_T2_n360_v300_10000_1.lammpstrj', \n",
    "                     f'../Data/prod/kalj_T{temp}_n360_v300_prod_{temperatures[temp]}_1.unwrap.dcd',\n",
    "                     topology_format='LAMMPSDUMP')\n",
    "    \n"
   ]
  },
  {
   "cell_type": "code",
   "execution_count": null,
   "metadata": {},
   "outputs": [],
   "source": []
  }
 ],
 "metadata": {
  "kernelspec": {
   "display_name": "lab_env_2023",
   "language": "python",
   "name": "lab_env_2023"
  },
  "language_info": {
   "codemirror_mode": {
    "name": "ipython",
    "version": 3
   },
   "file_extension": ".py",
   "mimetype": "text/x-python",
   "name": "python",
   "nbconvert_exporter": "python",
   "pygments_lexer": "ipython3",
   "version": "3.9.12"
  }
 },
 "nbformat": 4,
 "nbformat_minor": 4
}
